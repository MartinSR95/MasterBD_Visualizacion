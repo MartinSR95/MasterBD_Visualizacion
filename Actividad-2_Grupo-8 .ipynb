{
 "cells": [
  {
   "cell_type": "markdown",
   "id": "4dbb9709",
   "metadata": {},
   "source": [
    "# Actividad 2 \n",
    "### Grupo 8\n",
    "* Pablo Fernández Rufino\n",
    "* Sergio Sánchez Espinosa\n",
    "* Martín Sánchez Revuelta"
   ]
  },
  {
   "cell_type": "markdown",
   "id": "f8368c1f",
   "metadata": {},
   "source": [
    "## 1 Carga de datos\n",
    "En primer lugar, descargamos los datos y los guardamos en un csv para poder modificarlos y tratarlos como DataFrame sin perder la información original."
   ]
  },
  {
   "cell_type": "code",
   "execution_count": 1,
   "id": "d19110aa",
   "metadata": {},
   "outputs": [],
   "source": [
    "import pandas as pd\n",
    "\n",
    "# URL base de la página con los datos\n",
    "url_base = \"https://www.start.umd.edu/gtd/search/Results.aspx?expanded=no&casualties_type=b&casualties_max=&dtp2=all&success=yes&country=185&ob=GTDID&od=desc&page={}&count=100#results-table\"\n",
    "\n",
    "# Número total de páginas a obtener\n",
    "num_paginas = 33\n",
    "\n",
    "# Lista para almacenar los DataFrames de cada página\n",
    "dataframes = []\n",
    "\n",
    "# Realizar solicitudes para cada página y guardar los datos en la lista\n",
    "for page in range(1, num_paginas + 1):\n",
    "    url = url_base.format(page)\n",
    "    tables = pd.read_html(url)\n",
    "    table = tables[0]\n",
    "    table = table.iloc[:-1]\n",
    "    dataframes.append(table)\n",
    "\n",
    "# Concatenar todos los DataFrames en uno solo\n",
    "merged_df = pd.concat(dataframes, ignore_index=True)\n",
    "\n",
    "# Guardar los datos en un archivo CSV\n",
    "merged_df.to_csv(\"terrorismSpain.csv\", index=False)\n"
   ]
  },
  {
   "cell_type": "markdown",
   "id": "ea7e7db0",
   "metadata": {},
   "source": [
    "## 2 Analizamos las variables:\n",
    "\n",
    "* GTD ID: Esta variable parece ser un identificador único asignado a cada incidente registrado. Dado que es un identificador, se puede considerar una variable categórica.\n",
    "\n",
    "* DATE: Esta variable representa la fecha del incidente. Se trata de una variable temporal y se puede considerar una variable categórica o, si se transforma en un formato de fecha y hora, una variable ordinal.\n",
    "\n",
    "* COUNTRY: Esta variable indica el país en el que ocurrió el incidente. Es una variable categórica, ya que representa una clasificación nominal de países.\n",
    "\n",
    "* CITY: Esta variable indica la ciudad donde ocurrió el incidente. Al igual que la variable \"COUNTRY\", es una variable categórica que representa una clasificación nominal de ciudades.\n",
    "\n",
    "* PERPETRATOR GROUP: Esta variable representa el grupo perpetrador del incidente. Al tratarse de un grupo identificado, se puede considerar una variable categórica.\n",
    "\n",
    "* FATALITIES: Esta variable indica el número de víctimas mortales en el incidente. Es una variable numérica discreta, ya que cuenta la cantidad de víctimas.\n",
    "\n",
    "* INJURED: Esta variable indica el número de personas heridas en el incidente. Al igual que la variable \"FATALITIES\", es una variable numérica discreta.\n",
    "\n",
    "* TARGET TYPE: Esta variable representa el tipo de objetivo del incidente. Es una variable categórica que clasifica los diferentes tipos de objetivos.\n",
    "\n",
    "En resumen:\n",
    "\n",
    "Variables categóricas: GTD ID, COUNTRY, CITY, PERPETRATOR GROUP, TARGET TYPE.\n",
    "Variables numéricas: FATALITIES, INJURED.\n",
    "Variables temporales: DATE (puede ser tratada como categórica o transformada a ordinal)."
   ]
  },
  {
   "cell_type": "code",
   "execution_count": 2,
   "id": "6874a3c4",
   "metadata": {},
   "outputs": [
    {
     "name": "stdout",
     "output_type": "stream",
     "text": [
      "GTD ID                int64\n",
      "DATE                 object\n",
      "COUNTRY              object\n",
      "CITY                 object\n",
      "PERPETRATOR GROUP    object\n",
      "FATALITIES           object\n",
      "INJURED              object\n",
      "TARGET TYPE          object\n",
      "dtype: object\n"
     ]
    }
   ],
   "source": [
    "# Importamos los datos del csv creado como dataframe:\n",
    "\n",
    "import pandas as pd\n",
    "\n",
    "# Cargamos los datos desde el archivo CSV\n",
    "df = pd.read_csv(\"terrorismSpain.csv\")\n",
    "\n",
    "# Consultamos los tipos de variables de cada columna en el DataFrame\n",
    "tipos_variables = df.dtypes\n",
    "\n",
    "print(tipos_variables)"
   ]
  },
  {
   "cell_type": "markdown",
   "id": "8738b8b8",
   "metadata": {},
   "source": [
    "## 3 Preparamos y filtramos los datos\n",
    "\n",
    "Vemos como los tipos de variables, para posteriormente trabajar con ellas, deberían ser:\n",
    "* GTD ID int64\n",
    "* DATE                 ordinal\n",
    "* COUNTRY              string\n",
    "* CITY                 string\n",
    "* PERPETRATOR GROUP    string\n",
    "* FATALITIES           int64\n",
    "* INJURED              int64\n",
    "* TARGET TYPE          string\n",
    "\n",
    "Además, los datos de la columna GTD ID no aportan información, por lo que podemos eliminarlos.\n",
    "Estableceremos los límites máximos para las variables \"FATALITIES\" e \"INJURIED\", para no tomar valores superiores a 100."
   ]
  },
  {
   "cell_type": "code",
   "execution_count": 5,
   "id": "070af379",
   "metadata": {},
   "outputs": [
    {
     "name": "stdout",
     "output_type": "stream",
     "text": [
      "GTD ID                        int64\n",
      "DATE                 datetime64[ns]\n",
      "COUNTRY                      object\n",
      "CITY                         object\n",
      "PERPETRATOR GROUP            object\n",
      "FATALITIES                    Int64\n",
      "INJURED                       Int64\n",
      "TARGET TYPE                  object\n",
      "dtype: object\n"
     ]
    }
   ],
   "source": [
    "import pandas as pd\n",
    "\n",
    "# Convertimos la columna \"DATE\" a formato de fecha y manejar fechas incorrectas\n",
    "df[\"DATE\"] = pd.to_datetime(df[\"DATE\"], errors='coerce')\n",
    "\n",
    "# Eliminamos filas con fechas nulas\n",
    "df = df.dropna(subset=[\"DATE\"])\n",
    "\n",
    "# Convertimos las columnas a los tipos de variables especificados\n",
    "df[\"COUNTRY\"] = df[\"COUNTRY\"].astype(str)\n",
    "df[\"CITY\"] = df[\"CITY\"].astype(str)\n",
    "df[\"PERPETRATOR GROUP\"] = df[\"PERPETRATOR GROUP\"].astype(str)\n",
    "df[\"FATALITIES\"] = pd.to_numeric(df[\"FATALITIES\"], errors='coerce').astype('Int64')\n",
    "df[\"INJURED\"] = pd.to_numeric(df[\"INJURED\"], errors='coerce').astype('Int64')\n",
    "df[\"TARGET TYPE\"] = df[\"TARGET TYPE\"].astype(str)\n",
    "tipos_variables = df.dtypes\n",
    "\n",
    "print(tipos_variables)"
   ]
  },
  {
   "cell_type": "code",
   "execution_count": 6,
   "id": "daa1a363",
   "metadata": {},
   "outputs": [],
   "source": [
    "# Guardamos el DataFrame modificado en un archivo CSV\n",
    "df.to_csv(\"terrorismSpain_formated.csv\", index=False)\n"
   ]
  }
 ],
 "metadata": {
  "kernelspec": {
   "display_name": "Python 3 (ipykernel)",
   "language": "python",
   "name": "python3"
  },
  "language_info": {
   "codemirror_mode": {
    "name": "ipython",
    "version": 3
   },
   "file_extension": ".py",
   "mimetype": "text/x-python",
   "name": "python",
   "nbconvert_exporter": "python",
   "pygments_lexer": "ipython3",
   "version": "3.11.3"
  }
 },
 "nbformat": 4,
 "nbformat_minor": 5
}
